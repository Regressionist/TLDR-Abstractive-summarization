{
 "cells": [
  {
   "cell_type": "code",
   "execution_count": 1,
   "metadata": {},
   "outputs": [],
   "source": [
    "import torch\n",
    "import torch.nn as nn\n",
    "import torch.nn.functional as F\n",
    "from torch.nn.utils.rnn import pack_padded_sequence, pad_packed_sequence\n",
    "import numpy as np\n",
    "from batchify import Corpus\n",
    "import random\n",
    "import torch.optim as optim\n",
    "from torch.autograd import Variable\n",
    "from model import Encoder, Decoder\n",
    "from math import log\n",
    "from numpy import array\n",
    "from numpy import argmax"
   ]
  },
  {
   "cell_type": "code",
   "execution_count": 2,
   "metadata": {},
   "outputs": [],
   "source": [
    "corpus=Corpus()"
   ]
  },
  {
   "cell_type": "code",
   "execution_count": 3,
   "metadata": {},
   "outputs": [
    {
     "name": "stdout",
     "output_type": "stream",
     "text": [
      "cuda\n"
     ]
    }
   ],
   "source": [
    "device=torch.device('cuda')\n",
    "print (device)"
   ]
  },
  {
   "cell_type": "code",
   "execution_count": 4,
   "metadata": {},
   "outputs": [],
   "source": [
    "def beam_search_decoder(data, k):\n",
    "    sequences = [[list(), 1.0]]\n",
    "    # walk over each step in sequence\n",
    "    for row in data:\n",
    "        all_candidates = list()\n",
    "        # expand each current candidate\n",
    "        for i in range(len(sequences)):\n",
    "            seq, score = sequences[i]\n",
    "            for j in range(len(row)):\n",
    "                candidate = [seq + [j], score * -1*(row[j])]\n",
    "                all_candidates.append(candidate)\n",
    "        # order all candidates by score\n",
    "        ordered = sorted(all_candidates, key=lambda tup:tup[1])\n",
    "        # select k best\n",
    "        sequences = ordered[:k]\n",
    "    return sequences\n",
    "                \n",
    "        "
   ]
  },
  {
   "cell_type": "code",
   "execution_count": 5,
   "metadata": {},
   "outputs": [],
   "source": [
    "def validation(input_tensor, target_tensor, encoder, decoder, criterion,corpus):\n",
    "    with torch.no_grad():\n",
    "        encoded, hidden=encoder(input_tensor.long())\n",
    "        batch_size=target_tensor.size(0)\n",
    "        decoder_input = np.zeros((batch_size,1))\n",
    "        decoder_input[:]=corpus.w2i['<sos>']\n",
    "        decoder_input=torch.from_numpy(decoder_input).cuda().detach()\n",
    "        dec_len=target_tensor.size(1)\n",
    "        decoded, hidden,outputs=decoder(encoded,hidden,decoder_input.long(),dec_len,target_tensor,val=True)\n",
    "    return outputs\n",
    "        #s=outputs.size(1)\n",
    "        #loss=0\n",
    "        #for i in range(s):\n",
    "        #    loss+=criterion(outputs[:,i,:],target_tensor[:,i].long())\n",
    "        \n",
    "        \n",
    "    #return loss/target_tensor.size(1)"
   ]
  },
  {
   "cell_type": "code",
   "execution_count": 6,
   "metadata": {},
   "outputs": [],
   "source": [
    "encoder=Encoder(vocab_size=50000, embedding_size=128, hidden_size=256)\n",
    "decoder=Decoder(vocab_size=50000, embedding_dim=128, hidden_dim=256)\n",
    "encoder=encoder.to(device)\n",
    "decoder=decoder.to(device)"
   ]
  },
  {
   "cell_type": "code",
   "execution_count": 7,
   "metadata": {},
   "outputs": [],
   "source": [
    "encoder_optimizer = optim.Adam(encoder.parameters())\n",
    "decoder_optimizer = optim.Adam(decoder.parameters())\n",
    "criterion=nn.NLLLoss()"
   ]
  },
  {
   "cell_type": "code",
   "execution_count": 25,
   "metadata": {},
   "outputs": [
    {
     "data": {
      "text/plain": [
       "Decoder(\n",
       "  (attn): Linear(in_features=384, out_features=400, bias=True)\n",
       "  (attn_combine): Linear(in_features=384, out_features=128, bias=True)\n",
       "  (linear1): Linear(in_features=512, out_features=256, bias=True)\n",
       "  (linear2): Linear(in_features=512, out_features=256, bias=True)\n",
       "  (embedding): Embedding(50000, 128)\n",
       "  (gru): GRU(128, 256, batch_first=True)\n",
       "  (linear): Linear(in_features=256, out_features=50000, bias=True)\n",
       ")"
      ]
     },
     "execution_count": 25,
     "metadata": {},
     "output_type": "execute_result"
    }
   ],
   "source": [
    "checkpoint = torch.load('model.pth')\n",
    "encoder.load_state_dict(checkpoint['encoder_state_dict'])\n",
    "decoder.load_state_dict(checkpoint['decoder_state_dict'])\n",
    "encoder_optimizer.load_state_dict(checkpoint['encoder_optimizer_state_dict'])\n",
    "decoder_optimizer.load_state_dict(checkpoint['decoder_optimizer_state_dict'])\n",
    "step = checkpoint['step']\n",
    "tl = checkpoint['training_loss']\n",
    "vl = checkpoint['validation_loss']\n",
    "\n",
    "encoder.train()\n",
    "decoder.train()"
   ]
  },
  {
   "cell_type": "code",
   "execution_count": null,
   "metadata": {},
   "outputs": [],
   "source": [
    "input_tensor_val,target_tensor_val=corpus.get_validation_batch()\n",
    "input_tensor_val=Variable(input_tensor_val.cuda())\n",
    "target_tensor_val=Variable(target_tensor_val.cuda())\n",
    "\n",
    "outputs=validation(input_tensor_val[16].unsqueeze(0),target_tensor_val[16].unsqueeze(0), encoder, decoder, criterion,corpus)\n",
    "outputs=outputs.squeeze(0)\n",
    "seq = beam_search_decoder(outputs.cpu().tolist(), 3)\n",
    "\n",
    "for i in seq:\n",
    "    sentence=[corpus.i2w[x] for x in i[0]]\n",
    "    print(\" \".join(sentence))\n",
    "    print('\\n')"
   ]
  },
  {
   "cell_type": "code",
   "execution_count": null,
   "metadata": {},
   "outputs": [],
   "source": []
  }
 ],
 "metadata": {
  "kernelspec": {
   "display_name": "Python 3",
   "language": "python",
   "name": "python3"
  },
  "language_info": {
   "codemirror_mode": {
    "name": "ipython",
    "version": 3
   },
   "file_extension": ".py",
   "mimetype": "text/x-python",
   "name": "python",
   "nbconvert_exporter": "python",
   "pygments_lexer": "ipython3",
   "version": "3.6.6"
  }
 },
 "nbformat": 4,
 "nbformat_minor": 2
}
